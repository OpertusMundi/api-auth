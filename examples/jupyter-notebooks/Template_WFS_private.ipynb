{
 "cells": [
  {
   "cell_type": "code",
   "execution_count": null,
   "id": "7c22c603-6245-44cd-aa88-9031e4da47ff",
   "metadata": {},
   "outputs": [],
   "source": [
    "import requests\n",
    "from IPython.display import Image, display"
   ]
  },
  {
   "cell_type": "code",
   "execution_count": null,
   "id": "12c7ac11-a07a-41fc-9a1e-c3c4780d3da4",
   "metadata": {},
   "outputs": [],
   "source": [
    "def acquire_access_token(TOKEN_URL, CLIENT_ID, CLIENT_SECRET):\n",
    "    ''''Acquire an access token using the `client_credentials` OAuth2 flow'''\n",
    "    data = {\n",
    "        'grant_type': 'client_credentials', \n",
    "        'client_id': CLIENT_ID, \n",
    "        'client_secret': CLIENT_SECRET, \n",
    "        'scope': 'offline_access'};\n",
    "    r = requests.post(TOKEN_URL, data=data);\n",
    "    r.raise_for_status()\n",
    "    access_token = r.json().get('access_token');\n",
    "    return access_token"
   ]
  },
  {
   "cell_type": "markdown",
   "id": "db599e7a-2d4d-4a6b-b156-02a43cc47546",
   "metadata": {},
   "source": [
    "### Connection specifications"
   ]
  },
  {
   "cell_type": "code",
   "execution_count": null,
   "id": "47f7b7d2-8262-464d-a945-a2a1055882cf",
   "metadata": {},
   "outputs": [],
   "source": [
    "# This is the token URL used for authenticating users -- DO NOT CHANGE\n",
    "TOKEN_URL = \"https://accounts.topio.market/auth/realms/Beta-Topio-Market/protocol/openid-connect/token\""
   ]
  },
  {
   "cell_type": "markdown",
   "id": "4f38a652-694a-4a16-bd98-0754295c9e31",
   "metadata": {},
   "source": [
    "##### From the Dashboard in the Topio account, click on menu __Clients__."
   ]
  },
  {
   "cell_type": "markdown",
   "id": "555f3db6-50fe-45ed-b748-2af7ec1ad985",
   "metadata": {},
   "source": [
    "##### Press button __GENERATE__ to create a new key. You may give it a name and then click __SAVE CLIENT__."
   ]
  },
  {
   "cell_type": "markdown",
   "id": "abaaadbf-7402-4687-ad2a-28edad3b98aa",
   "metadata": {},
   "source": [
    "##### Once the key is generated, your *CLIENT_SECRET* will be shown in a popup menu __only once__. Copy this value and keep it for establishing connections to your OGC services."
   ]
  },
  {
   "cell_type": "markdown",
   "id": "75bd2544-931b-47da-a9e6-f7ac58a9cdca",
   "metadata": {},
   "source": [
    "##### The *CLIENT_ID* of the new key will be shown in the list next to its name. "
   ]
  },
  {
   "cell_type": "markdown",
   "id": "2ba91421-e985-40fb-8479-c0d6b8ba191b",
   "metadata": {},
   "source": [
    "##### This pair of values will be available for the next 24 hours. You may remove and create keys according to your needs."
   ]
  },
  {
   "cell_type": "code",
   "execution_count": null,
   "id": "174b26c4-7008-4ab4-8a36-0e284c13ae8c",
   "metadata": {},
   "outputs": [],
   "source": [
    "CLIENT_ID = \"...\"\n",
    "# e.g., CLIENT_ID = \"ccfed3f4-dd28-4ff8-aabd-1596cbd24131\"\n",
    "\n",
    "CLIENT_SECRET = \"...\"\n",
    "# e.g., CLIENT_SECRET = \"705e9d90-0f77-46c5-a9d5-53035ff275ee\""
   ]
  },
  {
   "cell_type": "markdown",
   "id": "51ae56c3-45cf-4301-8a02-b762c40ded33",
   "metadata": {},
   "source": [
    "### Specify Service endpoint & Layer"
   ]
  },
  {
   "cell_type": "markdown",
   "id": "eea1d8cd-e143-4277-9332-24e5b4be8c9d",
   "metadata": {},
   "source": [
    "##### In the Dashboard, pick menu __t OGC__ and from the list pick the WFS you want to access.\n",
    "##### The URI of this WFS provides information about (1) the *service endpoint*; (2) the *service parameters*; and (3) the *layer name*. Use this information to populate the values next, as in the examples."
   ]
  },
  {
   "cell_type": "code",
   "execution_count": null,
   "id": "b9fd6ba3-7bfb-41eb-9655-ab299abdd35f",
   "metadata": {},
   "outputs": [],
   "source": [
    "# Specify the service endpoint URI for a WFS\n",
    "WFS_ENDPOINT = \"...\"\n",
    "# e.g.: WFS_ENDPOINT = \"https://s2.ows.topio.market/p_8b3f3ee9-2065-4cff-b46f-77eac5362633/wfs\""
   ]
  },
  {
   "cell_type": "code",
   "execution_count": null,
   "id": "47e23a7b-a72b-439a-bd94-1764eb45dbd0",
   "metadata": {},
   "outputs": [],
   "source": [
    "# Service parameters\n",
    "WFS_COMMON_PARAMS = {\n",
    "    'service': 'WFS', \n",
    "    'version': '2.0.0'\n",
    "}"
   ]
  },
  {
   "cell_type": "code",
   "execution_count": null,
   "id": "4a5c712d-24d0-44c8-861d-3fe610e2b437",
   "metadata": {},
   "outputs": [],
   "source": [
    "# Specify the layer name for this OGC service\n",
    "LAYER_NAME = \"...\"\n",
    "# e.g., LAYER_NAME=\"_549050d0-7da5-4ace-acc7-9f4245cbe652\""
   ]
  },
  {
   "cell_type": "markdown",
   "id": "5978718b-9322-415c-8034-b192dec07d89",
   "metadata": {},
   "source": [
    "### Get token from OGC server"
   ]
  },
  {
   "cell_type": "code",
   "execution_count": null,
   "id": "cf5e42ca-ef89-4b19-883f-6c485c71a155",
   "metadata": {},
   "outputs": [],
   "source": [
    "if __name__ == '__main__':\n",
    "    # Acquire an access token to pass as authorization header along with our requests to an OGC service\n",
    "    access_token = acquire_access_token(TOKEN_URL, CLIENT_ID, CLIENT_SECRET)\n",
    "    #print(access_token)\n",
    "    auth_headers = {'Authorization': f\"Bearer {access_token}\"}"
   ]
  },
  {
   "cell_type": "markdown",
   "id": "ecbcbab0-b65f-408f-8e39-9eeb6c943be7",
   "metadata": {},
   "source": [
    "### Execute requests against a WFS"
   ]
  },
  {
   "cell_type": "markdown",
   "id": "330537da-e3e1-4c0a-9115-1bc01e9e2234",
   "metadata": {},
   "source": [
    "##### Submit a *GetCapabilities* request against this WFS"
   ]
  },
  {
   "cell_type": "code",
   "execution_count": null,
   "id": "df478f46-4b83-401b-a256-a2f137dd5755",
   "metadata": {},
   "outputs": [],
   "source": [
    "if __name__ == '__main__':\n",
    "    r1 = requests.get(WFS_ENDPOINT, \n",
    "        params={**WFS_COMMON_PARAMS, 'request': 'GetCapabilities'}, \n",
    "        headers={**auth_headers})\n",
    "    r1.raise_for_status()\n",
    "    print(r1.text)"
   ]
  },
  {
   "cell_type": "markdown",
   "id": "7b94ff50-1c4a-4ca2-b2d8-c4fa98b31bd4",
   "metadata": {},
   "source": [
    "##### Submit a *DescribeFeatureType* of the given layer against this WFS"
   ]
  },
  {
   "cell_type": "code",
   "execution_count": null,
   "id": "50d0e214-d0e7-43b5-94f4-b0ee15cd83ac",
   "metadata": {},
   "outputs": [],
   "source": [
    "if __name__ == '__main__':\n",
    "    r2 = requests.get(WFS_ENDPOINT, \n",
    "        params={**WFS_COMMON_PARAMS, 'request': 'DescribeFeatureType', 'typeNames': LAYER_NAME}, \n",
    "        headers={**auth_headers})\n",
    "    r2.raise_for_status()\n",
    "    print(r2.text)"
   ]
  },
  {
   "cell_type": "markdown",
   "id": "59e41558-8f9d-460f-8c46-9338884c7891",
   "metadata": {},
   "source": [
    "##### Submit a *GetFeatures* request against this WMS using a bounding box (BBOX) and get its response in JSON"
   ]
  },
  {
   "cell_type": "code",
   "execution_count": null,
   "id": "b424d3bd-51b4-4a01-9e66-43085ca66245",
   "metadata": {},
   "outputs": [],
   "source": [
    "if __name__ == '__main__':\n",
    "    # Specify minx, miny, max, maxy values for the BBOX\n",
    "    # Include spacification of CRS in the bounding box in case that original data is in another CRS (Original data is in EPSG:2100)\n",
    "    bbox2 = \"10.80,26.92,30.74,51.92,EPSG:4326\"\n",
    "    r4 = requests.get(WFS_ENDPOINT, \n",
    "        params={**WFS_COMMON_PARAMS, \n",
    "                'request': 'GetFeature', \n",
    "                'outputFormat': 'json',\n",
    "                'typenames': LAYER_NAME,\n",
    "                'srsName': 'EPSG:4326',\n",
    "                'bbox': bbox2},\n",
    "                headers={**auth_headers})\n",
    "    r4.raise_for_status()\n",
    "    # Response is in JSON\n",
    "    print(\"GetFeature responded with type: \" + r4.headers['Content-Type'])\n",
    "    \n",
    "    # Save response to a JSON file\n",
    "    filename4 = f\"getfeature-{LAYER_NAME}.json\"\n",
    "    print(f\"Saving response to {filename4}\")\n",
    "    with open(filename4, 'wb') as f: \n",
    "        f.write(r4.content);"
   ]
  }
 ],
 "metadata": {
  "kernelspec": {
   "display_name": "Python 3",
   "language": "python",
   "name": "python3"
  },
  "language_info": {
   "codemirror_mode": {
    "name": "ipython",
    "version": 3
   },
   "file_extension": ".py",
   "mimetype": "text/x-python",
   "name": "python",
   "nbconvert_exporter": "python",
   "pygments_lexer": "ipython3",
   "version": "3.8.8"
  }
 },
 "nbformat": 4,
 "nbformat_minor": 5
}
